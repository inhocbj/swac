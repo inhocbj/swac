{
 "cells": [
  {
   "cell_type": "code",
   "execution_count": 5,
   "id": "a13c8848",
   "metadata": {},
   "outputs": [
    {
     "name": "stdout",
     "output_type": "stream",
     "text": [
      "A\n"
     ]
    }
   ],
   "source": [
    "a = 3\n",
    "b = 2\n",
    "if a == 1 :\n",
    "    if b == 1:\n",
    "        print('draw')\n",
    "    elif b == 2 :\n",
    "        print('B')\n",
    "    else:\n",
    "        print('A')\n",
    "elif a == 2 :\n",
    "    if b == 1:\n",
    "        print('A')\n",
    "    elif b == 2 :\n",
    "        print('draw')\n",
    "    else:\n",
    "        print('B')\n",
    "else :\n",
    "    if b == 1:\n",
    "        print('B')\n",
    "    elif b == 2 :\n",
    "        print('A')\n",
    "    else:\n",
    "        print('draw')"
   ]
  }
 ],
 "metadata": {
  "kernelspec": {
   "display_name": "Python 3 (ipykernel)",
   "language": "python",
   "name": "python3"
  },
  "language_info": {
   "codemirror_mode": {
    "name": "ipython",
    "version": 3
   },
   "file_extension": ".py",
   "mimetype": "text/x-python",
   "name": "python",
   "nbconvert_exporter": "python",
   "pygments_lexer": "ipython3",
   "version": "3.9.7"
  }
 },
 "nbformat": 4,
 "nbformat_minor": 5
}
