{
 "cells": [
  {
   "cell_type": "code",
   "execution_count": 6,
   "id": "c6588192",
   "metadata": {},
   "outputs": [
    {
     "name": "stdout",
     "output_type": "stream",
     "text": [
      "1 2 3 4 5 6 7 8 9 10 11 12 13 14 15 16 17 18 19 20 21 22 23 24 25 26 "
     ]
    }
   ],
   "source": [
    "#2050. 알파벳을 숫자로 변환\n",
    "text=\"ABCDEFGHIJKLMNOPQRSTUVWXYZ\"\n",
    "for element in text:\n",
    "    print(ord(element)-64,end=' ')\n",
    "    \n",
    "\n"
   ]
  }
 ],
 "metadata": {
  "kernelspec": {
   "display_name": "Python 3 (ipykernel)",
   "language": "python",
   "name": "python3"
  },
  "language_info": {
   "codemirror_mode": {
    "name": "ipython",
    "version": 3
   },
   "file_extension": ".py",
   "mimetype": "text/x-python",
   "name": "python",
   "nbconvert_exporter": "python",
   "pygments_lexer": "ipython3",
   "version": "3.9.7"
  }
 },
 "nbformat": 4,
 "nbformat_minor": 5
}
