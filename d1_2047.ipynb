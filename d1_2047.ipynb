{
 "cells": [
  {
   "cell_type": "code",
   "execution_count": 4,
   "id": "90a356b0",
   "metadata": {},
   "outputs": [
    {
     "name": "stdout",
     "output_type": "stream",
     "text": [
      "THE_HEADLINE_IS_THE_TEXT_INDICATING_THE_NATURE_OF_THE_ARTICLE_BELOW_IT.\n"
     ]
    }
   ],
   "source": [
    "#2047. 신문 헤드라인\n",
    "text=\"The_headline_is_the_text_indicating_the_nature_of_the_article_below_it.\"\n",
    "textR=\"\"\n",
    "for element in text:\n",
    "    if element >='a' and element<='z':\n",
    "        textR = textR + element.upper()\n",
    "    else :\n",
    "        textR = textR + element\n",
    "\n",
    "print(textR)"
   ]
  }
 ],
 "metadata": {
  "kernelspec": {
   "display_name": "Python 3 (ipykernel)",
   "language": "python",
   "name": "python3"
  },
  "language_info": {
   "codemirror_mode": {
    "name": "ipython",
    "version": 3
   },
   "file_extension": ".py",
   "mimetype": "text/x-python",
   "name": "python",
   "nbconvert_exporter": "python",
   "pygments_lexer": "ipython3",
   "version": "3.9.7"
  }
 },
 "nbformat": 4,
 "nbformat_minor": 5
}
