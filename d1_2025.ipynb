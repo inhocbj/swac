{
 "cells": [
  {
   "cell_type": "code",
   "execution_count": 1,
   "id": "30a42502",
   "metadata": {},
   "outputs": [
    {
     "name": "stdout",
     "output_type": "stream",
     "text": [
      "55\n"
     ]
    }
   ],
   "source": [
    "#D1 2025. N줄덧셈\n",
    "\n",
    "T = 10\n",
    "sum = 0\n",
    "for test_case in range(1, T + 1):\n",
    "    sum = sum + test_case\n",
    "print(sum)    \n",
    "\n"
   ]
  }
 ],
 "metadata": {
  "kernelspec": {
   "display_name": "Python 3 (ipykernel)",
   "language": "python",
   "name": "python3"
  },
  "language_info": {
   "codemirror_mode": {
    "name": "ipython",
    "version": 3
   },
   "file_extension": ".py",
   "mimetype": "text/x-python",
   "name": "python",
   "nbconvert_exporter": "python",
   "pygments_lexer": "ipython3",
   "version": "3.9.7"
  }
 },
 "nbformat": 4,
 "nbformat_minor": 5
}
