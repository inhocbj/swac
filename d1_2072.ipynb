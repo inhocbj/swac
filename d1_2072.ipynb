{
 "cells": [
  {
   "cell_type": "code",
   "execution_count": null,
   "id": "7ef2ac40",
   "metadata": {},
   "outputs": [],
   "source": [
    "#2072. 홀수만 더하기\n",
    "\n",
    "for test_case in range(1, T + 1):\n",
    "    a = [int(x) for x in input().split()]\n",
    "    temp = 0\n",
    "    for i in range(0,10):\n",
    "        if a[i] % 2 == 1:\n",
    "            temp = temp + a[i]\n",
    "    print('#'+str(test_case),temp)"
   ]
  },
  {
   "cell_type": "code",
   "execution_count": 4,
   "id": "b94f9b57",
   "metadata": {},
   "outputs": [
    {
     "name": "stdout",
     "output_type": "stream",
     "text": [
      "1\n",
      "2\n",
      "3\n"
     ]
    }
   ],
   "source": [
    "a = [1,2,3]\n",
    "for i in range(0,3):\n",
    "    print(a[i])"
   ]
  }
 ],
 "metadata": {
  "kernelspec": {
   "display_name": "Python 3 (ipykernel)",
   "language": "python",
   "name": "python3"
  },
  "language_info": {
   "codemirror_mode": {
    "name": "ipython",
    "version": 3
   },
   "file_extension": ".py",
   "mimetype": "text/x-python",
   "name": "python",
   "nbconvert_exporter": "python",
   "pygments_lexer": "ipython3",
   "version": "3.9.7"
  }
 },
 "nbformat": 4,
 "nbformat_minor": 5
}
