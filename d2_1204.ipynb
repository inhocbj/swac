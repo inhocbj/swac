{
 "cells": [
  {
   "cell_type": "code",
   "execution_count": null,
   "id": "f80929bd",
   "metadata": {},
   "outputs": [],
   "source": [
    "#1204. [S/W 문제해결 기본] 1일차 - 최빈수 구하기\n",
    "\n",
    "T = int(input())\n",
    "# 여러개의 테스트 케이스가 주어지므로, 각각을 처리합니다.\n",
    "for test_case in range(1, T + 1):\n",
    "    b = int(input())\n",
    "    a = [int(x) for x in input().split()]\n",
    "    frequency = {}\n",
    "    max_n = 0\n",
    "    for i in range(0,100):\n",
    "        frequency[i] = a.count(i)\n",
    "    for j in range(0,100):\n",
    "        if frequency[j] >= max_n:\n",
    "            max_n = frequency[j]\n",
    "            max_key = j\n",
    "    print('#'+str(b),max_key)"
   ]
  }
 ],
 "metadata": {
  "kernelspec": {
   "display_name": "Python 3 (ipykernel)",
   "language": "python",
   "name": "python3"
  },
  "language_info": {
   "codemirror_mode": {
    "name": "ipython",
    "version": 3
   },
   "file_extension": ".py",
   "mimetype": "text/x-python",
   "name": "python",
   "nbconvert_exporter": "python",
   "pygments_lexer": "ipython3",
   "version": "3.9.7"
  }
 },
 "nbformat": 4,
 "nbformat_minor": 5
}
