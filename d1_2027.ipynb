{
 "cells": [
  {
   "cell_type": "code",
   "execution_count": 2,
   "id": "65a48592",
   "metadata": {
    "scrolled": true
   },
   "outputs": [
    {
     "name": "stdout",
     "output_type": "stream",
     "text": [
      "#++++\n",
      "+#+++\n",
      "++#++\n",
      "+++#+\n",
      "++++#\n"
     ]
    }
   ],
   "source": [
    "#D1 027. 대각선 출력하기\n",
    "T = 5\n",
    "\n",
    "for i in range(1, T + 1):\n",
    "    for j in range(1, T + 1):\n",
    "        if i == j :\n",
    "            print('#',end='')\n",
    "        else:\n",
    "            print('+',end='')\n",
    "    print('')"
   ]
  }
 ],
 "metadata": {
  "kernelspec": {
   "display_name": "Python 3 (ipykernel)",
   "language": "python",
   "name": "python3"
  },
  "language_info": {
   "codemirror_mode": {
    "name": "ipython",
    "version": 3
   },
   "file_extension": ".py",
   "mimetype": "text/x-python",
   "name": "python",
   "nbconvert_exporter": "python",
   "pygments_lexer": "ipython3",
   "version": "3.9.7"
  }
 },
 "nbformat": 4,
 "nbformat_minor": 5
}
