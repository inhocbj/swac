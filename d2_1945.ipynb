{
 "cells": [
  {
   "cell_type": "code",
   "execution_count": 3,
   "id": "df8b4e2c",
   "metadata": {},
   "outputs": [
    {
     "name": "stdout",
     "output_type": "stream",
     "text": [
      "#1 3 2 2 3 1\n"
     ]
    }
   ],
   "source": [
    "#1945. 간단한 소인수분해\n",
    "\n",
    "N = 6791400\n",
    "a = 0\n",
    "b = 0\n",
    "c = 0\n",
    "d = 0\n",
    "e = 0\n",
    "test_case = 1\n",
    "while N != 1:\n",
    "    if N % 2 == 0:\n",
    "        a = a + 1\n",
    "        N = N / 2\n",
    "    elif N % 3 == 0:\n",
    "        b = b + 1\n",
    "        N = N / 3\n",
    "    elif N % 5 == 0:\n",
    "        c = c + 1\n",
    "        N = N / 5\n",
    "    elif N % 7 == 0:\n",
    "        d = d + 1\n",
    "        N = N / 7\n",
    "    elif N % 11 == 0:\n",
    "        e = e + 1\n",
    "        N = N / 11\n",
    "print('#'+str(test_case),a,b,c,d,e)\n",
    "#print('#'+str(test_case),a,b,c,d,e)"
   ]
  }
 ],
 "metadata": {
  "kernelspec": {
   "display_name": "Python 3 (ipykernel)",
   "language": "python",
   "name": "python3"
  },
  "language_info": {
   "codemirror_mode": {
    "name": "ipython",
    "version": 3
   },
   "file_extension": ".py",
   "mimetype": "text/x-python",
   "name": "python",
   "nbconvert_exporter": "python",
   "pygments_lexer": "ipython3",
   "version": "3.9.7"
  }
 },
 "nbformat": 4,
 "nbformat_minor": 5
}
