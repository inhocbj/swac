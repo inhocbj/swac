{
 "cells": [
  {
   "cell_type": "code",
   "execution_count": 8,
   "id": "091b1cf5",
   "metadata": {},
   "outputs": [
    {
     "name": "stdout",
     "output_type": "stream",
     "text": [
      "30\n"
     ]
    }
   ],
   "source": [
    "# 1959. 두 개의 숫자열\n",
    "\n",
    "T = int(input())\n",
    "# 여러개의 테스트 케이스가 주어지므로, 각각을 처리합니다.\n",
    "for test_case in range(1, T + 1):\n",
    "    max_t = 0\n",
    "    b, c = map(int, input().split())\n",
    "    temp= 0\n",
    "    if b > c :\n",
    "        temp = c\n",
    "        c = b\n",
    "        b = temp\n",
    "        c1 = [int(x) for x in input().split()]\n",
    "        b1 = [int(x) for x in input().split()]\n",
    "    else:\n",
    "        b1 = [int(x) for x in input().split()]\n",
    "        c1 = [int(x) for x in input().split()]\n",
    "    \n",
    "    for i in range(c-b+1):\n",
    "        temp = 0\n",
    "        for j in range(b):\n",
    "            temp = temp + (b1[j]  * c1[j+i])\n",
    "        if temp > max_t :\n",
    "            max_t = temp\n",
    "    print('#'+str(test_case),max_t)\n",
    "    "
   ]
  },
  {
   "cell_type": "code",
   "execution_count": 10,
   "id": "3a256df1",
   "metadata": {},
   "outputs": [
    {
     "name": "stdout",
     "output_type": "stream",
     "text": [
      "1 3\n"
     ]
    }
   ],
   "source": [
    "b = 3\n",
    "c = 1\n",
    "d = 0\n",
    "if b > c :\n",
    "    d = c\n",
    "    c = b\n",
    "    b = d\n",
    "print(b,c)"
   ]
  }
 ],
 "metadata": {
  "kernelspec": {
   "display_name": "Python 3 (ipykernel)",
   "language": "python",
   "name": "python3"
  },
  "language_info": {
   "codemirror_mode": {
    "name": "ipython",
    "version": 3
   },
   "file_extension": ".py",
   "mimetype": "text/x-python",
   "name": "python",
   "nbconvert_exporter": "python",
   "pygments_lexer": "ipython3",
   "version": "3.9.7"
  }
 },
 "nbformat": 4,
 "nbformat_minor": 5
}
