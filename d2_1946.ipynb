{
 "cells": [
  {
   "cell_type": "code",
   "execution_count": null,
   "id": "52cf9b50",
   "metadata": {},
   "outputs": [],
   "source": [
    "#1946. 간단한 압축 풀기\n",
    "T = int(input())\n",
    "# 여러개의 테스트 케이스가 주어지므로, 각각을 처리합니다.\n",
    "for test_case in range(1, T + 1):\n",
    "    a = int(input())\n",
    "    print('#'+str(test_case))\n",
    "    temp_n = 0\n",
    "    temp =\"\"\n",
    "    for i in range(1, a + 1):\n",
    "        b, c = map(str, input().split())\n",
    "        c = int(c)\n",
    "        for j in range(1, c + 1):\n",
    "            if temp_n < 10 :\n",
    "                temp = temp + b\n",
    "                \n",
    "            else:\n",
    "                print(temp)\n",
    "                temp = b\n",
    "                temp_n = 0\n",
    "            temp_n = temp_n + 1    \n",
    "    print(temp)"
   ]
  }
 ],
 "metadata": {
  "kernelspec": {
   "display_name": "Python 3 (ipykernel)",
   "language": "python",
   "name": "python3"
  },
  "language_info": {
   "codemirror_mode": {
    "name": "ipython",
    "version": 3
   },
   "file_extension": ".py",
   "mimetype": "text/x-python",
   "name": "python",
   "nbconvert_exporter": "python",
   "pygments_lexer": "ipython3",
   "version": "3.9.7"
  }
 },
 "nbformat": 4,
 "nbformat_minor": 5
}
