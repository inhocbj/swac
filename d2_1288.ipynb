{
 "cells": [
  {
   "cell_type": "code",
   "execution_count": null,
   "id": "c5528298",
   "metadata": {},
   "outputs": [],
   "source": [
    "#1288. 새로운 불면증 치료법\n",
    "\n",
    "T = int(input())\n",
    "# 여러개의 테스트 케이스가 주어지므로, 각각을 처리합니다.\n",
    "for test_case in range(1, T + 1):\n",
    "    N = int(input())\n",
    "    a = set()\n",
    "    i = 0\n",
    "    while len(a) != 9:\n",
    "        i = i+1\n",
    "        a = a|NumC(i*N)\n",
    "        \n",
    "    print('#'+str(test_case),i*N)"
   ]
  },
  {
   "cell_type": "code",
   "execution_count": 22,
   "id": "4f9cbee7",
   "metadata": {},
   "outputs": [
    {
     "name": "stdout",
     "output_type": "stream",
     "text": [
      "#1 5076\n"
     ]
    }
   ],
   "source": [
    "N = 1692\n",
    "a = set()\n",
    "i = 0\n",
    "while len(a) != 10:\n",
    "    i = i+1\n",
    "    r = []\n",
    "    temp = i*N\n",
    "    while temp > 0 :\n",
    "        r.append(temp%10)\n",
    "        temp = temp//10\n",
    "    r = set(r)\n",
    "    a = a|r\n",
    "        \n",
    "print('#'+str(1),i*N)"
   ]
  },
  {
   "cell_type": "code",
   "execution_count": 8,
   "id": "25008cd4",
   "metadata": {},
   "outputs": [
    {
     "name": "stdout",
     "output_type": "stream",
     "text": [
      "4\n"
     ]
    }
   ],
   "source": [
    "\n",
    "\n",
    "c = [1]\n",
    "c.append(5)\n",
    "c=set(c)\n",
    "a = {1,2,3}\n",
    "b = set()\n",
    "\n",
    "b = a|b|c\n",
    "\n",
    "print(len(b))"
   ]
  },
  {
   "cell_type": "code",
   "execution_count": 15,
   "id": "8bf9e99b",
   "metadata": {},
   "outputs": [
    {
     "name": "stdout",
     "output_type": "stream",
     "text": [
      "3\n"
     ]
    }
   ],
   "source": [
    "def NumC(a):\n",
    "    r = []\n",
    "    temp = a\n",
    "    while temp > 0 :\n",
    "        r.append(temp%10)\n",
    "        temp = temp//10\n",
    "    r = set(r)\n",
    "    return r\n",
    "\n",
    "print(len(NumC(584)))"
   ]
  }
 ],
 "metadata": {
  "kernelspec": {
   "display_name": "Python 3 (ipykernel)",
   "language": "python",
   "name": "python3"
  },
  "language_info": {
   "codemirror_mode": {
    "name": "ipython",
    "version": 3
   },
   "file_extension": ".py",
   "mimetype": "text/x-python",
   "name": "python",
   "nbconvert_exporter": "python",
   "pygments_lexer": "ipython3",
   "version": "3.7.13"
  }
 },
 "nbformat": 4,
 "nbformat_minor": 5
}
